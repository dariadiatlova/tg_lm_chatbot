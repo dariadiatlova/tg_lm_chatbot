{
 "cells": [
  {
   "cell_type": "code",
   "execution_count": 347,
   "metadata": {},
   "outputs": [
    {
     "name": "stdout",
     "output_type": "stream",
     "text": [
      "The autoreload extension is already loaded. To reload it, use:\n",
      "  %reload_ext autoreload\n"
     ]
    }
   ],
   "source": [
    "%load_ext autoreload\n",
    "%autoreload 2\n",
    "\n",
    "import pandas as pd"
   ]
  },
  {
   "cell_type": "code",
   "execution_count": 453,
   "metadata": {},
   "outputs": [],
   "source": [
    "from data_preprocessing.tg_json_reader import DataRetriever\n",
    "from data_preprocessing.conversation_builder import create_conversations\n",
    "from data_preprocessing.util import write_txt, read_txt, train_bpe_tokenizer\n",
    "from data_preprocessing.dataset import ChatDataset\n",
    "\n",
    "from transformers import GPT2LMHeadModel, GPT2Tokenizer, GPT2Config\n",
    "from tokenizers.processors import BertProcessing\n",
    "\n",
    "from src.model.train import main"
   ]
  },
  {
   "cell_type": "markdown",
   "metadata": {},
   "source": [
    "### Train and save BPE tokenizer"
   ]
  },
  {
   "cell_type": "code",
   "execution_count": 444,
   "metadata": {},
   "outputs": [],
   "source": [
    "path = \"/Users/diat.lov/Downloads/Telegram Desktop/DataExport_2021-11-05/result.json\"\n",
    "data_retriever = DataRetriever(path)\n",
    "dictinoary = data_retriever.get_message_history_by_name(\"Катя\")"
   ]
  },
  {
   "cell_type": "code",
   "execution_count": 445,
   "metadata": {},
   "outputs": [],
   "source": [
    "df = data_retriever.get_pandas_df(dictinoary)"
   ]
  },
  {
   "cell_type": "code",
   "execution_count": 446,
   "metadata": {},
   "outputs": [],
   "source": [
    "df = data_retriever.tg_specific_preprocessing(df)"
   ]
  },
  {
   "cell_type": "code",
   "execution_count": 447,
   "metadata": {},
   "outputs": [],
   "source": [
    "all_conversations = create_conversations(df, return_str=True)"
   ]
  },
  {
   "cell_type": "code",
   "execution_count": 448,
   "metadata": {},
   "outputs": [
    {
     "data": {
      "text/plain": [
       "'<s> <Kate> Пхахахаххахахаха <Kate> Ты когда домой? <Daria> В 8 <Kate> Что там по зп? <Daria> Ты спишь? </s> <s> <Kate> Если что <Kate> Скажи Саше,что '"
      ]
     },
     "execution_count": 448,
     "metadata": {},
     "output_type": "execute_result"
    }
   ],
   "source": [
    "all_conversations[0:150]"
   ]
  },
  {
   "cell_type": "code",
   "execution_count": 450,
   "metadata": {},
   "outputs": [],
   "source": [
    "write_txt(all_conversations, \"/Users/diat.lov/GitHub/tg_lm_chatbot/data/conversations.txt\")"
   ]
  },
  {
   "cell_type": "code",
   "execution_count": 451,
   "metadata": {},
   "outputs": [
    {
     "name": "stdout",
     "output_type": "stream",
     "text": [
      "\n",
      "\n",
      "\n"
     ]
    }
   ],
   "source": [
    "train_bpe_tokenizer(\"/Users/diat.lov/GitHub/tg_lm_chatbot/data/conversations.txt\",\n",
    "                    \"/Users/diat.lov/GitHub/tg_lm_chatbot/data/tokenizer\")"
   ]
  },
  {
   "cell_type": "code",
   "execution_count": 454,
   "metadata": {},
   "outputs": [
    {
     "name": "stderr",
     "output_type": "stream",
     "text": [
      "  0%|                                                    | 0/71 [00:00<?, ?it/s]"
     ]
    },
    {
     "name": "stdout",
     "output_type": "stream",
     "text": [
      "huggingface/tokenizers: The current process just got forked, after parallelism has already been used. Disabling parallelism to avoid deadlocks...\n",
      "To disable this warning, you can either:\n",
      "\t- Avoid using `tokenizers` before the fork if possible\n",
      "\t- Explicitly set the environment variable TOKENIZERS_PARALLELISM=(true | false)\n",
      "huggingface/tokenizers: The current process just got forked, after parallelism has already been used. Disabling parallelism to avoid deadlocks...\n",
      "To disable this warning, you can either:\n",
      "\t- Avoid using `tokenizers` before the fork if possible\n",
      "\t- Explicitly set the environment variable TOKENIZERS_PARALLELISM=(true | false)\n",
      "tensor([[25, 25],\n",
      "        [25, 25],\n",
      "        [25, 25],\n",
      "        [25, 25],\n",
      "        [25, 25],\n",
      "        [25, 25],\n",
      "        [25, 25],\n",
      "        [25, 25],\n",
      "        [25, 25],\n",
      "        [25, 25],\n",
      "        [25, 25],\n",
      "        [25, 25],\n",
      "        [25, 25],\n",
      "        [25, 25],\n",
      "        [25, 25],\n",
      "        [25, 25],\n",
      "        [25, 25],\n",
      "        [25, 25],\n",
      "        [25, 25],\n",
      "        [25, 25],\n",
      "        [25, 25],\n",
      "        [25, 25],\n",
      "        [25, 25],\n",
      "        [25, 25],\n",
      "        [25, 25],\n",
      "        [25, 25],\n",
      "        [25, 25],\n",
      "        [25, 25],\n",
      "        [25, 25],\n",
      "        [25, 25],\n",
      "        [25, 25],\n",
      "        [25, 25],\n",
      "        [25, 25],\n",
      "        [25, 25],\n",
      "        [25, 25],\n",
      "        [25, 25],\n",
      "        [25, 25],\n",
      "        [25, 25],\n",
      "        [25, 25],\n",
      "        [25, 25],\n",
      "        [25, 25],\n",
      "        [25, 25],\n",
      "        [25, 25],\n",
      "        [25, 25],\n",
      "        [25, 25],\n",
      "        [25, 25],\n",
      "        [25, 25],\n",
      "        [25, 25],\n",
      "        [25, 25],\n",
      "        [25, 25],\n",
      "        [25, 25],\n",
      "        [25, 25],\n",
      "        [25, 25],\n",
      "        [25, 25],\n",
      "        [25, 25],\n",
      "        [25, 25],\n",
      "        [25, 25],\n",
      "        [25, 25],\n",
      "        [25, 25],\n",
      "        [25, 25],\n",
      "        [25, 25],\n",
      "        [25, 25],\n",
      "        [25, 25],\n",
      "        [25, 25]]) tensor([[25, 25],\n",
      "        [25, 25],\n",
      "        [25, 25],\n",
      "        [25, 25],\n",
      "        [25, 25],\n",
      "        [25, 25],\n",
      "        [25, 25],\n",
      "        [25, 25],\n",
      "        [25, 25],\n",
      "        [25, 25],\n",
      "        [25, 25],\n",
      "        [25, 25],\n",
      "        [25, 25],\n",
      "        [25, 25],\n",
      "        [25, 25],\n",
      "        [25, 25],\n",
      "        [25, 25],\n",
      "        [25, 25],\n",
      "        [25, 25],\n",
      "        [25, 25],\n",
      "        [25, 25],\n",
      "        [25, 25],\n",
      "        [25, 25],\n",
      "        [25, 25],\n",
      "        [25, 25],\n",
      "        [25, 25],\n",
      "        [25, 25],\n",
      "        [25, 25],\n",
      "        [25, 25],\n",
      "        [25, 25],\n",
      "        [25, 25],\n",
      "        [25, 25],\n",
      "        [25, 25],\n",
      "        [25, 25],\n",
      "        [25, 25],\n",
      "        [25, 25],\n",
      "        [25, 25],\n",
      "        [25, 25],\n",
      "        [25, 25],\n",
      "        [25, 25],\n",
      "        [25, 25],\n",
      "        [25, 25],\n",
      "        [25, 25],\n",
      "        [25, 25],\n",
      "        [25, 25],\n",
      "        [25, 25],\n",
      "        [25, 25],\n",
      "        [25, 25],\n",
      "        [25, 25],\n",
      "        [25, 25],\n",
      "        [25, 25],\n",
      "        [25, 25],\n",
      "        [25, 25],\n",
      "        [25, 25],\n",
      "        [25, 25],\n",
      "        [25, 25],\n",
      "        [25, 25],\n",
      "        [25, 25],\n",
      "        [25, 25],\n",
      "        [25, 25],\n",
      "        [25, 25],\n",
      "        [25, 25],\n",
      "        [25, 25],\n",
      "        [25, 25]])\n",
      "loss\n"
     ]
    },
    {
     "name": "stderr",
     "output_type": "stream",
     "text": [
      "  0%|                                                    | 0/71 [00:08<?, ?it/s]\n",
      "Epoch [1/2]:   0%|                                        | 0/2 [00:08<?, ?it/s]\n"
     ]
    },
    {
     "ename": "AttributeError",
     "evalue": "'str' object has no attribute 'backward'",
     "output_type": "error",
     "traceback": [
      "\u001b[0;31m---------------------------------------------------------------------------\u001b[0m",
      "\u001b[0;31mAttributeError\u001b[0m                            Traceback (most recent call last)",
      "\u001b[0;32m/var/folders/kt/h442b5jd4zd8g5vjpj3zfxm00000gn/T/ipykernel_36262/451043146.py\u001b[0m in \u001b[0;36m<module>\u001b[0;34m\u001b[0m\n\u001b[0;32m----> 1\u001b[0;31m \u001b[0mmain\u001b[0m\u001b[0;34m(\u001b[0m\u001b[0;34m)\u001b[0m\u001b[0;34m\u001b[0m\u001b[0;34m\u001b[0m\u001b[0m\n\u001b[0m",
      "\u001b[0;32m~/GitHub/tg_lm_chatbot/src/model/train.py\u001b[0m in \u001b[0;36mmain\u001b[0;34m(model_name, weight_decay, lr, adam_epsilon, gradient_accumulation_steps, n_epochs, warmup_steps, max_norm, save_every, run_name)\u001b[0m\n\u001b[1;32m     83\u001b[0m             \u001b[0mloss\u001b[0m\u001b[0;34m,\u001b[0m \u001b[0;34m*\u001b[0m\u001b[0m_\u001b[0m \u001b[0;34m=\u001b[0m \u001b[0mmodel\u001b[0m\u001b[0;34m(\u001b[0m\u001b[0minputs\u001b[0m\u001b[0;34m,\u001b[0m \u001b[0mlabels\u001b[0m\u001b[0;34m=\u001b[0m\u001b[0mlabels\u001b[0m\u001b[0;34m)\u001b[0m\u001b[0;34m\u001b[0m\u001b[0;34m\u001b[0m\u001b[0m\n\u001b[1;32m     84\u001b[0m             \u001b[0mprint\u001b[0m\u001b[0;34m(\u001b[0m\u001b[0mloss\u001b[0m\u001b[0;34m)\u001b[0m\u001b[0;34m\u001b[0m\u001b[0;34m\u001b[0m\u001b[0m\n\u001b[0;32m---> 85\u001b[0;31m             \u001b[0mloss\u001b[0m\u001b[0;34m.\u001b[0m\u001b[0mbackward\u001b[0m\u001b[0;34m(\u001b[0m\u001b[0;34m)\u001b[0m\u001b[0;34m\u001b[0m\u001b[0;34m\u001b[0m\u001b[0m\n\u001b[0m\u001b[1;32m     86\u001b[0m             \u001b[0mtr_loss\u001b[0m \u001b[0;34m=\u001b[0m \u001b[0mloss\u001b[0m\u001b[0;34m.\u001b[0m\u001b[0mitem\u001b[0m\u001b[0;34m(\u001b[0m\u001b[0;34m)\u001b[0m\u001b[0;34m\u001b[0m\u001b[0;34m\u001b[0m\u001b[0m\n\u001b[1;32m     87\u001b[0m             \u001b[0;31m# Compute a running average of the loss\u001b[0m\u001b[0;34m\u001b[0m\u001b[0;34m\u001b[0m\u001b[0;34m\u001b[0m\u001b[0m\n",
      "\u001b[0;31mAttributeError\u001b[0m: 'str' object has no attribute 'backward'"
     ]
    }
   ],
   "source": [
    "main()"
   ]
  },
  {
   "cell_type": "code",
   "execution_count": null,
   "metadata": {},
   "outputs": [],
   "source": []
  }
 ],
 "metadata": {
  "kernelspec": {
   "display_name": "Python 3 (ipykernel)",
   "language": "python",
   "name": "python3"
  },
  "language_info": {
   "codemirror_mode": {
    "name": "ipython",
    "version": 3
   },
   "file_extension": ".py",
   "mimetype": "text/x-python",
   "name": "python",
   "nbconvert_exporter": "python",
   "pygments_lexer": "ipython3",
   "version": "3.8.1"
  }
 },
 "nbformat": 4,
 "nbformat_minor": 1
}

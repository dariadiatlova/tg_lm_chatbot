{
  "nbformat": 4,
  "nbformat_minor": 0,
  "metadata": {
    "kernelspec": {
      "display_name": "Python 3 (ipykernel)",
      "language": "python",
      "name": "python3"
    },
    "language_info": {
      "codemirror_mode": {
        "name": "ipython",
        "version": 3
      },
      "file_extension": ".py",
      "mimetype": "text/x-python",
      "name": "python",
      "nbconvert_exporter": "python",
      "pygments_lexer": "ipython3",
      "version": "3.8.1"
    },
    "colab": {
      "name": "notebook.ipynb",
      "provenance": [],
      "collapsed_sections": []
    },
    "accelerator": "GPU"
  },
  "cells": [
    {
      "cell_type": "code",
      "metadata": {
        "colab": {
          "base_uri": "https://localhost:8080/"
        },
        "id": "7jSZ8q406yvt",
        "outputId": "05025544-356e-48bc-9d1f-4b099b7932a2"
      },
      "source": [
        "from google.colab import drive\n",
        "drive.mount('/content/drive')"
      ],
      "execution_count": 1,
      "outputs": [
        {
          "output_type": "stream",
          "name": "stdout",
          "text": [
            "Mounted at /content/drive\n"
          ]
        }
      ]
    },
    {
      "cell_type": "markdown",
      "metadata": {
        "id": "97QFPMsX6gsU"
      },
      "source": [
        "### Train and save BPE tokenizer"
      ]
    },
    {
      "cell_type": "code",
      "metadata": {
        "colab": {
          "base_uri": "https://localhost:8080/"
        },
        "id": "NbLJ9oiW6gsc",
        "outputId": "dc91616b-7449-4722-eaf8-3d0bbe4b18f4"
      },
      "source": [
        "!pwd"
      ],
      "execution_count": 2,
      "outputs": [
        {
          "output_type": "stream",
          "name": "stdout",
          "text": [
            "/content\n"
          ]
        }
      ]
    },
    {
      "cell_type": "code",
      "metadata": {
        "colab": {
          "base_uri": "https://localhost:8080/"
        },
        "id": "haXiO0ht7Nyw",
        "outputId": "65b48576-5c9f-4a86-df64-df93cff7d8bb"
      },
      "source": [
        "cd drive/MyDrive/HSE/chatbot/tg_lm_chatbot"
      ],
      "execution_count": 3,
      "outputs": [
        {
          "output_type": "stream",
          "name": "stdout",
          "text": [
            "/content/drive/.shortcut-targets-by-id/1em15tBYeuRKGQLRcgl37eQQlGt3mjCGJ/HSE/chatbot/tg_lm_chatbot\n"
          ]
        }
      ]
    },
    {
      "cell_type": "code",
      "metadata": {
        "id": "PoQeCKkU7k4V"
      },
      "source": [
        "!pip install -r requirements.txt"
      ],
      "execution_count": null,
      "outputs": []
    },
    {
      "cell_type": "code",
      "metadata": {
        "colab": {
          "base_uri": "https://localhost:8080/"
        },
        "id": "OROGypSh7biB",
        "outputId": "13e569a8-62a5-44df-9328-1b6462a9286d"
      },
      "source": [
        "!python3 -m src.model.train"
      ],
      "execution_count": 10,
      "outputs": [
        {
          "output_type": "stream",
          "name": "stdout",
          "text": [
            "\r  0% 0/2 [00:00<?, ?it/s]\rEpoch [1/2]:   0% 0/2 [00:00<?, ?it/s]\r  0% 0/282 [00:00<?, ?it/s]/content/drive/.shortcut-targets-by-id/1em15tBYeuRKGQLRcgl37eQQlGt3mjCGJ/HSE/chatbot/tg_lm_chatbot/data_preprocessing/dataset.py:23: UserWarning: To copy construct from a tensor, it is recommended to use sourceTensor.clone().detach() or sourceTensor.clone().detach().requires_grad_(True), rather than torch.tensor(sourceTensor).\n",
            "  return torch.tensor(self.tokenized_text[item])\n",
            "Average loss: 5.7924: 100% 282/282 [04:57<00:00,  1.06s/it]\n",
            "  0% 0/282 [00:00<?, ?it/s]/content/drive/.shortcut-targets-by-id/1em15tBYeuRKGQLRcgl37eQQlGt3mjCGJ/HSE/chatbot/tg_lm_chatbot/data_preprocessing/dataset.py:23: UserWarning: To copy construct from a tensor, it is recommended to use sourceTensor.clone().detach() or sourceTensor.clone().detach().requires_grad_(True), rather than torch.tensor(sourceTensor).\n",
            "  return torch.tensor(self.tokenized_text[item])\n",
            "Average loss: 4.1075: 100% 282/282 [04:58<00:00,  1.06s/it]\n",
            "Epoch [2/2]: 100% 2/2 [09:56<00:00, 298.27s/it]\n"
          ]
        }
      ]
    },
    {
      "cell_type": "code",
      "metadata": {
        "id": "SLpqP9CT7gxT"
      },
      "source": [
        ""
      ],
      "execution_count": null,
      "outputs": []
    }
  ]
}
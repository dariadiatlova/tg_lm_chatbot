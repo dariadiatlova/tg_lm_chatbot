{
 "cells": [
  {
   "cell_type": "code",
   "execution_count": 142,
   "metadata": {},
   "outputs": [
    {
     "name": "stdout",
     "output_type": "stream",
     "text": [
      "The autoreload extension is already loaded. To reload it, use:\n",
      "  %reload_ext autoreload\n"
     ]
    }
   ],
   "source": [
    "%load_ext autoreload\n",
    "%autoreload 2\n",
    "\n",
    "import pandas as pd"
   ]
  },
  {
   "cell_type": "code",
   "execution_count": 143,
   "metadata": {},
   "outputs": [
    {
     "name": "stdout",
     "output_type": "stream",
     "text": [
      "# conda environments:\r\n",
      "#\r\n",
      "base                     /Users/diat.lov/miniconda3\r\n",
      "audio                    /Users/diat.lov/miniconda3/envs/audio\r\n",
      "chatbot               *  /Users/diat.lov/miniconda3/envs/chatbot\r\n",
      "cv                       /Users/diat.lov/miniconda3/envs/cv\r\n",
      "gymlab                   /Users/diat.lov/miniconda3/envs/gymlab\r\n",
      "hyperstyle               /Users/diat.lov/miniconda3/envs/hyperstyle\r\n",
      "pythonProject1           /Users/diat.lov/miniconda3/envs/pythonProject1\r\n",
      "rl                       /Users/diat.lov/miniconda3/envs/rl\r\n",
      "\r\n"
     ]
    }
   ],
   "source": [
    "!conda info --envs"
   ]
  },
  {
   "cell_type": "code",
   "execution_count": 268,
   "metadata": {},
   "outputs": [],
   "source": [
    "from data_preprocessing.tg_json_reader import DataRetriever\n",
    "from data_preprocessing.conversation_builder import create_conversations"
   ]
  },
  {
   "cell_type": "code",
   "execution_count": 240,
   "metadata": {},
   "outputs": [],
   "source": [
    "path = \"/Users/diat.lov/Downloads/Telegram Desktop/DataExport_2021-11-05/result.json\"\n",
    "data_retriever = DataRetriever(path)\n",
    "dictinoary = data_retriever.get_message_history_by_name(\"Катя\")"
   ]
  },
  {
   "cell_type": "code",
   "execution_count": 241,
   "metadata": {},
   "outputs": [],
   "source": [
    "df = data_retriever.get_pandas_df(dictinoary)"
   ]
  },
  {
   "cell_type": "code",
   "execution_count": 185,
   "metadata": {},
   "outputs": [
    {
     "data": {
      "text/html": [
       "<div>\n",
       "<style scoped>\n",
       "    .dataframe tbody tr th:only-of-type {\n",
       "        vertical-align: middle;\n",
       "    }\n",
       "\n",
       "    .dataframe tbody tr th {\n",
       "        vertical-align: top;\n",
       "    }\n",
       "\n",
       "    .dataframe thead th {\n",
       "        text-align: right;\n",
       "    }\n",
       "</style>\n",
       "<table border=\"1\" class=\"dataframe\">\n",
       "  <thead>\n",
       "    <tr style=\"text-align: right;\">\n",
       "      <th></th>\n",
       "      <th>id</th>\n",
       "      <th>type</th>\n",
       "      <th>date</th>\n",
       "      <th>from</th>\n",
       "      <th>from_id</th>\n",
       "      <th>text</th>\n",
       "      <th>contact_information</th>\n",
       "      <th>file</th>\n",
       "      <th>thumbnail</th>\n",
       "      <th>media_type</th>\n",
       "      <th>...</th>\n",
       "      <th>discard_reason</th>\n",
       "      <th>location_information</th>\n",
       "      <th>forwarded_from</th>\n",
       "      <th>edited</th>\n",
       "      <th>via_bot</th>\n",
       "      <th>performer</th>\n",
       "      <th>title</th>\n",
       "      <th>live_location_period_seconds</th>\n",
       "      <th>poll</th>\n",
       "      <th>message_id</th>\n",
       "    </tr>\n",
       "  </thead>\n",
       "  <tbody>\n",
       "    <tr>\n",
       "      <th>0</th>\n",
       "      <td>1</td>\n",
       "      <td>message</td>\n",
       "      <td>2017-06-05T08:52:50</td>\n",
       "      <td>Daria Diatlova</td>\n",
       "      <td>user336968719</td>\n",
       "      <td>D</td>\n",
       "      <td>NaN</td>\n",
       "      <td>NaN</td>\n",
       "      <td>NaN</td>\n",
       "      <td>NaN</td>\n",
       "      <td>...</td>\n",
       "      <td>NaN</td>\n",
       "      <td>NaN</td>\n",
       "      <td>NaN</td>\n",
       "      <td>NaN</td>\n",
       "      <td>NaN</td>\n",
       "      <td>NaN</td>\n",
       "      <td>NaN</td>\n",
       "      <td>NaN</td>\n",
       "      <td>NaN</td>\n",
       "      <td>NaN</td>\n",
       "    </tr>\n",
       "    <tr>\n",
       "      <th>1</th>\n",
       "      <td>2</td>\n",
       "      <td>message</td>\n",
       "      <td>2017-06-05T08:55:30</td>\n",
       "      <td>Катя</td>\n",
       "      <td>user109937743</td>\n",
       "      <td></td>\n",
       "      <td>{'first_name': 'Светлана Анатольевна(айф)', 'l...</td>\n",
       "      <td>NaN</td>\n",
       "      <td>NaN</td>\n",
       "      <td>NaN</td>\n",
       "      <td>...</td>\n",
       "      <td>NaN</td>\n",
       "      <td>NaN</td>\n",
       "      <td>NaN</td>\n",
       "      <td>NaN</td>\n",
       "      <td>NaN</td>\n",
       "      <td>NaN</td>\n",
       "      <td>NaN</td>\n",
       "      <td>NaN</td>\n",
       "      <td>NaN</td>\n",
       "      <td>NaN</td>\n",
       "    </tr>\n",
       "    <tr>\n",
       "      <th>2</th>\n",
       "      <td>11</td>\n",
       "      <td>message</td>\n",
       "      <td>2017-06-06T03:16:59</td>\n",
       "      <td>Daria Diatlova</td>\n",
       "      <td>user336968719</td>\n",
       "      <td>Нормальная рубашка😅😅</td>\n",
       "      <td>NaN</td>\n",
       "      <td>NaN</td>\n",
       "      <td>NaN</td>\n",
       "      <td>NaN</td>\n",
       "      <td>...</td>\n",
       "      <td>NaN</td>\n",
       "      <td>NaN</td>\n",
       "      <td>NaN</td>\n",
       "      <td>NaN</td>\n",
       "      <td>NaN</td>\n",
       "      <td>NaN</td>\n",
       "      <td>NaN</td>\n",
       "      <td>NaN</td>\n",
       "      <td>NaN</td>\n",
       "      <td>NaN</td>\n",
       "    </tr>\n",
       "    <tr>\n",
       "      <th>3</th>\n",
       "      <td>13</td>\n",
       "      <td>message</td>\n",
       "      <td>2017-06-06T03:24:19</td>\n",
       "      <td>Катя</td>\n",
       "      <td>user109937743</td>\n",
       "      <td>Пхахахаххахахаха</td>\n",
       "      <td>NaN</td>\n",
       "      <td>NaN</td>\n",
       "      <td>NaN</td>\n",
       "      <td>NaN</td>\n",
       "      <td>...</td>\n",
       "      <td>NaN</td>\n",
       "      <td>NaN</td>\n",
       "      <td>NaN</td>\n",
       "      <td>NaN</td>\n",
       "      <td>NaN</td>\n",
       "      <td>NaN</td>\n",
       "      <td>NaN</td>\n",
       "      <td>NaN</td>\n",
       "      <td>NaN</td>\n",
       "      <td>NaN</td>\n",
       "    </tr>\n",
       "    <tr>\n",
       "      <th>4</th>\n",
       "      <td>14</td>\n",
       "      <td>message</td>\n",
       "      <td>2017-06-06T03:24:37</td>\n",
       "      <td>Катя</td>\n",
       "      <td>user109937743</td>\n",
       "      <td>Ты когда домой?</td>\n",
       "      <td>NaN</td>\n",
       "      <td>NaN</td>\n",
       "      <td>NaN</td>\n",
       "      <td>NaN</td>\n",
       "      <td>...</td>\n",
       "      <td>NaN</td>\n",
       "      <td>NaN</td>\n",
       "      <td>NaN</td>\n",
       "      <td>NaN</td>\n",
       "      <td>NaN</td>\n",
       "      <td>NaN</td>\n",
       "      <td>NaN</td>\n",
       "      <td>NaN</td>\n",
       "      <td>NaN</td>\n",
       "      <td>NaN</td>\n",
       "    </tr>\n",
       "  </tbody>\n",
       "</table>\n",
       "<p>5 rows × 30 columns</p>\n",
       "</div>"
      ],
      "text/plain": [
       "   id     type                 date            from        from_id  \\\n",
       "0   1  message  2017-06-05T08:52:50  Daria Diatlova  user336968719   \n",
       "1   2  message  2017-06-05T08:55:30            Катя  user109937743   \n",
       "2  11  message  2017-06-06T03:16:59  Daria Diatlova  user336968719   \n",
       "3  13  message  2017-06-06T03:24:19            Катя  user109937743   \n",
       "4  14  message  2017-06-06T03:24:37            Катя  user109937743   \n",
       "\n",
       "                   text                                contact_information  \\\n",
       "0                     D                                                NaN   \n",
       "1                        {'first_name': 'Светлана Анатольевна(айф)', 'l...   \n",
       "2  Нормальная рубашка😅😅                                                NaN   \n",
       "3      Пхахахаххахахаха                                                NaN   \n",
       "4       Ты когда домой?                                                NaN   \n",
       "\n",
       "  file thumbnail media_type  ... discard_reason  location_information  \\\n",
       "0  NaN       NaN        NaN  ...            NaN                   NaN   \n",
       "1  NaN       NaN        NaN  ...            NaN                   NaN   \n",
       "2  NaN       NaN        NaN  ...            NaN                   NaN   \n",
       "3  NaN       NaN        NaN  ...            NaN                   NaN   \n",
       "4  NaN       NaN        NaN  ...            NaN                   NaN   \n",
       "\n",
       "   forwarded_from edited  via_bot  performer title  \\\n",
       "0             NaN    NaN      NaN        NaN   NaN   \n",
       "1             NaN    NaN      NaN        NaN   NaN   \n",
       "2             NaN    NaN      NaN        NaN   NaN   \n",
       "3             NaN    NaN      NaN        NaN   NaN   \n",
       "4             NaN    NaN      NaN        NaN   NaN   \n",
       "\n",
       "  live_location_period_seconds poll message_id  \n",
       "0                          NaN  NaN        NaN  \n",
       "1                          NaN  NaN        NaN  \n",
       "2                          NaN  NaN        NaN  \n",
       "3                          NaN  NaN        NaN  \n",
       "4                          NaN  NaN        NaN  \n",
       "\n",
       "[5 rows x 30 columns]"
      ]
     },
     "execution_count": 185,
     "metadata": {},
     "output_type": "execute_result"
    }
   ],
   "source": [
    "df.head()"
   ]
  },
  {
   "cell_type": "code",
   "execution_count": 242,
   "metadata": {},
   "outputs": [],
   "source": [
    "df = data_retriever.tg_specific_preprocessing(df)"
   ]
  },
  {
   "cell_type": "code",
   "execution_count": 235,
   "metadata": {},
   "outputs": [
    {
     "data": {
      "text/html": [
       "<div>\n",
       "<style scoped>\n",
       "    .dataframe tbody tr th:only-of-type {\n",
       "        vertical-align: middle;\n",
       "    }\n",
       "\n",
       "    .dataframe tbody tr th {\n",
       "        vertical-align: top;\n",
       "    }\n",
       "\n",
       "    .dataframe thead th {\n",
       "        text-align: right;\n",
       "    }\n",
       "</style>\n",
       "<table border=\"1\" class=\"dataframe\">\n",
       "  <thead>\n",
       "    <tr style=\"text-align: right;\">\n",
       "      <th></th>\n",
       "      <th>id</th>\n",
       "      <th>date</th>\n",
       "      <th>time</th>\n",
       "      <th>from</th>\n",
       "      <th>text</th>\n",
       "    </tr>\n",
       "  </thead>\n",
       "  <tbody>\n",
       "    <tr>\n",
       "      <th>0</th>\n",
       "      <td>1</td>\n",
       "      <td>2017-06-05</td>\n",
       "      <td>08:52:50</td>\n",
       "      <td>Daria</td>\n",
       "      <td>D</td>\n",
       "    </tr>\n",
       "    <tr>\n",
       "      <th>1</th>\n",
       "      <td>11</td>\n",
       "      <td>2017-06-06</td>\n",
       "      <td>03:16:59</td>\n",
       "      <td>Daria</td>\n",
       "      <td>Нормальная рубашка😅😅</td>\n",
       "    </tr>\n",
       "    <tr>\n",
       "      <th>2</th>\n",
       "      <td>13</td>\n",
       "      <td>2017-06-06</td>\n",
       "      <td>03:24:19</td>\n",
       "      <td>Kate</td>\n",
       "      <td>Пхахахаххахахаха</td>\n",
       "    </tr>\n",
       "    <tr>\n",
       "      <th>3</th>\n",
       "      <td>14</td>\n",
       "      <td>2017-06-06</td>\n",
       "      <td>03:24:37</td>\n",
       "      <td>Kate</td>\n",
       "      <td>Ты когда домой?</td>\n",
       "    </tr>\n",
       "    <tr>\n",
       "      <th>4</th>\n",
       "      <td>15</td>\n",
       "      <td>2017-06-06</td>\n",
       "      <td>03:30:55</td>\n",
       "      <td>Daria</td>\n",
       "      <td>В 8</td>\n",
       "    </tr>\n",
       "  </tbody>\n",
       "</table>\n",
       "</div>"
      ],
      "text/plain": [
       "   id        date      time   from                  text\n",
       "0   1  2017-06-05  08:52:50  Daria                     D\n",
       "1  11  2017-06-06  03:16:59  Daria  Нормальная рубашка😅😅\n",
       "2  13  2017-06-06  03:24:19   Kate      Пхахахаххахахаха\n",
       "3  14  2017-06-06  03:24:37   Kate       Ты когда домой?\n",
       "4  15  2017-06-06  03:30:55  Daria                   В 8"
      ]
     },
     "execution_count": 235,
     "metadata": {},
     "output_type": "execute_result"
    }
   ],
   "source": [
    "df.head(5)"
   ]
  },
  {
   "cell_type": "code",
   "execution_count": 228,
   "metadata": {},
   "outputs": [],
   "source": [
    "def create_conversations(df):\n",
    "    conversations = []\n",
    "    idx = 0\n",
    "    min_dialoge_len = 5\n",
    "    max_dialoge_len = 100\n",
    "    while idx < df.shape[0]:\n",
    "        target_hour = df.time.loc[idx].hour\n",
    "        message_block = [df.loc[idx][\"from\"] + \" \" + df.loc[idx][\"text\"]]\n",
    "        for i in range(idx + 1, df.shape[0]):\n",
    "            if df.time.loc[i].hour == target_hour:\n",
    "                message_block.extend([df.loc[i][\"from\"] + \" \" + df.loc[i][\"text\"]])\n",
    "            else:\n",
    "                target_hour = df.time.loc[i].hour\n",
    "                idx += i\n",
    "                if min_dialoge_len <= len(message_block) <= max_dialoge_len:\n",
    "                    conversations.append(message_block)\n",
    "                break \n",
    "    return conversations"
   ]
  },
  {
   "cell_type": "code",
   "execution_count": 229,
   "metadata": {},
   "outputs": [],
   "source": [
    "small_df = df.loc[0:200]"
   ]
  },
  {
   "cell_type": "code",
   "execution_count": 230,
   "metadata": {},
   "outputs": [],
   "source": [
    "small_conversations = create_conversations(small_df)"
   ]
  },
  {
   "cell_type": "code",
   "execution_count": 234,
   "metadata": {},
   "outputs": [
    {
     "data": {
      "text/plain": [
       "['Kate Отлично',\n",
       " 'Daria У тебя дома велик?',\n",
       " 'Kate Да',\n",
       " 'Daria Скажем, что ты спортом занималась',\n",
       " 'Kate Хорошо',\n",
       " 'Kate Я напишу',\n",
       " 'Daria Все, Коля поехал на работу, я сказала, что ты написала, что бегала и уже домой бежишь',\n",
       " 'Daria Он спросил, что мы будем делать, я сказала, что Коли отвезёт нас куда-нибудь в город',\n",
       " 'Daria Коди*',\n",
       " 'Daria Ой, я себе в личку кидала']"
      ]
     },
     "execution_count": 234,
     "metadata": {},
     "output_type": "execute_result"
    }
   ],
   "source": [
    "small_conversations[2]"
   ]
  },
  {
   "cell_type": "code",
   "execution_count": 269,
   "metadata": {},
   "outputs": [],
   "source": [
    "all_conversations = create_conversations(df)"
   ]
  },
  {
   "cell_type": "code",
   "execution_count": 283,
   "metadata": {},
   "outputs": [
    {
     "data": {
      "text/plain": [
       "4741"
      ]
     },
     "execution_count": 283,
     "metadata": {},
     "output_type": "execute_result"
    }
   ],
   "source": [
    "len(all_conversations)"
   ]
  },
  {
   "cell_type": "code",
   "execution_count": 286,
   "metadata": {},
   "outputs": [
    {
     "data": {
      "text/plain": [
       "['Kate Ты работаешь ещё?',\n",
       " 'Kate Ты работаешь ещё?',\n",
       " 'Daria Нет, сижу просто',\n",
       " 'Kate Коди попросить тебя забрать?',\n",
       " 'Kate Напиши что тебе сделать',\n",
       " 'Kate Хорошо',\n",
       " 'Kate Напиши как можешь',\n",
       " 'Kate Поедешь',\n",
       " 'Kate Чай поставлю',\n",
       " 'Daria Оки']"
      ]
     },
     "execution_count": 286,
     "metadata": {},
     "output_type": "execute_result"
    }
   ],
   "source": [
    "all_conversations[10]"
   ]
  },
  {
   "cell_type": "code",
   "execution_count": null,
   "metadata": {},
   "outputs": [],
   "source": []
  }
 ],
 "metadata": {
  "kernelspec": {
   "display_name": "Python 3 (ipykernel)",
   "language": "python",
   "name": "python3"
  },
  "language_info": {
   "codemirror_mode": {
    "name": "ipython",
    "version": 3
   },
   "file_extension": ".py",
   "mimetype": "text/x-python",
   "name": "python",
   "nbconvert_exporter": "python",
   "pygments_lexer": "ipython3",
   "version": "3.8.1"
  }
 },
 "nbformat": 4,
 "nbformat_minor": 1
}